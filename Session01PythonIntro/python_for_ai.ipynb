{
 "cells": [
  {
   "cell_type": "markdown",
   "id": "7960105e",
   "metadata": {},
   "source": [
    "# Print Statements!"
   ]
  },
  {
   "cell_type": "code",
   "execution_count": 3,
   "id": "9a3618a4",
   "metadata": {},
   "outputs": [
    {
     "name": "stdout",
     "output_type": "stream",
     "text": [
      "Alice got a 99 on the test! Woo hoo!\n"
     ]
    }
   ],
   "source": [
    "name = \"Alice\"\n",
    "grade = 99\n",
    "print(f\"{name} got a {grade} on the test! Woo hoo!\")\n",
    "# things to learn: f-strings are made by putting an 'f' before the first \" in print()"
   ]
  },
  {
   "cell_type": "code",
   "execution_count": null,
   "id": "a83abe76",
   "metadata": {},
   "outputs": [
    {
     "name": "stdout",
     "output_type": "stream",
     "text": [
      "Alice got a 99 on the test. Very impressive\n"
     ]
    }
   ],
   "source": [
    "print(name, \"got a\", grade, \"on the test; Very impressive\")"
   ]
  },
  {
   "cell_type": "markdown",
   "id": "09c243a4",
   "metadata": {},
   "source": [
    "## Inputs"
   ]
  },
  {
   "cell_type": "code",
   "execution_count": 4,
   "id": "af9b1a74",
   "metadata": {},
   "outputs": [
    {
     "name": "stdout",
     "output_type": "stream",
     "text": [
      "Hey how are you doing, Miles?\n"
     ]
    }
   ],
   "source": [
    "name = input(\"What is your name?: \")\n",
    "print(f\"Hey how are you doing, {name}?\")"
   ]
  },
  {
   "cell_type": "code",
   "execution_count": null,
   "id": "e38d06c8",
   "metadata": {},
   "outputs": [
    {
     "data": {
      "text/plain": [
       "int"
      ]
     },
     "execution_count": 7,
     "metadata": {},
     "output_type": "execute_result"
    }
   ],
   "source": [
    "ex = input(\"Number: \")\n",
    "type(ex) # input()'s always come out as strings\n",
    "\n",
    "ex = int(ex)\n",
    "type(ex)"
   ]
  },
  {
   "cell_type": "markdown",
   "id": "b66d50e2",
   "metadata": {},
   "source": [
    "## Basic Coding Formats"
   ]
  },
  {
   "cell_type": "code",
   "execution_count": null,
   "id": "6b488f2a",
   "metadata": {},
   "outputs": [],
   "source": [
    "if score >= 90:\n",
    "    print(\"Whoa! Congrats you did very well!\")\n",
    "elif score >= 80:\n",
    "    print(\"Damn, that's pretty darn good\")\n",
    "else:\n",
    "    print(\"You got this\")"
   ]
  },
  {
   "cell_type": "markdown",
   "id": "b143c50f",
   "metadata": {},
   "source": [
    "## Applying Basics to Chatbot"
   ]
  },
  {
   "cell_type": "code",
   "execution_count": null,
   "id": "b155afc1",
   "metadata": {},
   "outputs": [],
   "source": [
    "# import time\n",
    "while True:\n",
    "    user_input = input(\"What do you want to ask? \")\n",
    "    if user_input.lower() == \"exit\":\n",
    "        print(\"Bye!\")\n",
    "        break\n",
    "    else:\n",
    "        # putting in response into AI\n",
    "        response = \"Placeholder\"\n",
    "        print(f\"Survey says: {response}\")"
   ]
  }
 ],
 "metadata": {
  "kernelspec": {
   "display_name": ".venv",
   "language": "python",
   "name": "python3"
  },
  "language_info": {
   "codemirror_mode": {
    "name": "ipython",
    "version": 3
   },
   "file_extension": ".py",
   "mimetype": "text/x-python",
   "name": "python",
   "nbconvert_exporter": "python",
   "pygments_lexer": "ipython3",
   "version": "3.14.0"
  }
 },
 "nbformat": 4,
 "nbformat_minor": 5
}
