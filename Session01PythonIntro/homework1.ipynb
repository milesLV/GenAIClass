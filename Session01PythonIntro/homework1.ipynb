{
 "cells": [
  {
   "cell_type": "markdown",
   "id": "4e85ca06",
   "metadata": {},
   "source": [
    "# Homework #1 DUE 10/30 AT 6PM"
   ]
  },
  {
   "cell_type": "code",
   "execution_count": 20,
   "id": "3645340d",
   "metadata": {},
   "outputs": [
    {
     "name": "stdout",
     "output_type": "stream",
     "text": [
      "racecaR ?no gniht siht si ,iH\n"
     ]
    }
   ],
   "source": [
    "# Problem 1: Reverse a string\n",
    "def reversedString(string):\n",
    "    length = len(string)\n",
    "    reversed = ''\n",
    "\n",
    "    for j in range(length):\n",
    "        reversed += string[0-j-1]\n",
    "    return reversed\n",
    "\n",
    "print(reversedString(\"Hi, is this thing on? Racecar\"))"
   ]
  },
  {
   "cell_type": "code",
   "execution_count": 21,
   "id": "b4993cfd",
   "metadata": {},
   "outputs": [
    {
     "name": "stdout",
     "output_type": "stream",
     "text": [
      "True\n",
      "False\n",
      "Please insert text!\n"
     ]
    }
   ],
   "source": [
    "# Problem 2: Check for palindrome\n",
    "def isPalindrome(string):\n",
    "    length = len(string)\n",
    "    if length == 0:\n",
    "        return \"Please insert text!\"\n",
    "    half = length // 2\n",
    "    polar = length % 2\n",
    "    if polar == 0: # if it's even\n",
    "        return string[0:half] == reversedString(string[half:length])\n",
    "    else: # if it's odd\n",
    "        return string[0:half] == reversedString(string[half+1:length])\n",
    "\n",
    "print(isPalindrome(\"racecar\"))\n",
    "print(isPalindrome(\"notAPalindrome\"))\n",
    "print(isPalindrome(\"\"))"
   ]
  },
  {
   "cell_type": "code",
   "execution_count": 22,
   "id": "c1de9b10",
   "metadata": {},
   "outputs": [],
   "source": [
    "# Problem 3: "
   ]
  },
  {
   "cell_type": "code",
   "execution_count": 23,
   "id": "bee2ae4e",
   "metadata": {},
   "outputs": [
    {
     "name": "stdout",
     "output_type": "stream",
     "text": [
      "sk-pr\n"
     ]
    }
   ],
   "source": [
    "# Function for ChatBot\n",
    "import os\n",
    "from dotenv import load_dotenv\n",
    "import openai\n",
    "from openai import OpenAI\n",
    "\n",
    "load_dotenv(override=True, dotenv_path=\"../.env\") # make sure to save the .env file before you load it in\n",
    "myAPIKey = os.getenv(\"OPENAI_API_KEY\")\n",
    "print(myAPIKey[:5])"
   ]
  },
  {
   "cell_type": "code",
   "execution_count": null,
   "id": "6606a8cf",
   "metadata": {},
   "outputs": [],
   "source": [
    "client = OpenAI(api_key=myAPIKey)\n",
    "model = \"gpt-5-nano\"  # best for our purposes\n",
    "def askChatBotQuestion(prompt):\n",
    "    print(f\"Prompt: {prompt}\")\n",
    "    response = client.chat.completions.create(\n",
    "        model = model,\n",
    "        messages=[\n",
    "            {\"role\": \"system\", \"content\": \"You are a helpful assistant. Answer as correctly as possible.\"},\n",
    "            {\"role\": \"user\", \"content\": prompt}\n",
    "        ]\n",
    "    )\n",
    "    print(response)\n",
    "    return response.choices[0].message.content"
   ]
  },
  {
   "cell_type": "code",
   "execution_count": null,
   "id": "caa572d0",
   "metadata": {},
   "outputs": [],
   "source": [
    "userPrompt = input(\"Ask whatever your heart desires: \")\n",
    "response = askChatBotQuestion(userPrompt)\n",
    "print(f\"{model} says: {response}\")"
   ]
  }
 ],
 "metadata": {
  "kernelspec": {
   "display_name": ".venv",
   "language": "python",
   "name": "python3"
  },
  "language_info": {
   "codemirror_mode": {
    "name": "ipython",
    "version": 3
   },
   "file_extension": ".py",
   "mimetype": "text/x-python",
   "name": "python",
   "nbconvert_exporter": "python",
   "pygments_lexer": "ipython3",
   "version": "3.14.0"
  }
 },
 "nbformat": 4,
 "nbformat_minor": 5
}
