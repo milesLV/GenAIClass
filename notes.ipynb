{
 "cells": [
  {
   "cell_type": "markdown",
   "id": "8b857fd7",
   "metadata": {},
   "source": [
    "# Gen AI Class (10/25/2025 - )\n",
    "Class: https://github.com/amiteshks/genai_lab_2025_10 \n",
    "\n",
    "Amit Sinha"
   ]
  },
  {
   "cell_type": "markdown",
   "id": "ab3c7e89",
   "metadata": {},
   "source": [
    "# Session 1"
   ]
  },
  {
   "cell_type": "markdown",
   "id": "6f6fb467",
   "metadata": {},
   "source": [
    "* Setting up Github (https://docs.google.com/document/d/1mfzMgFjN_Uu5eXjkG3dZGp-GxQMujLjZ3bgeoYpNpIA/edit?tab=t.0)\n",
    "    * First made empty repository\n",
    "    * SSH key\n",
    "        * Made one by doing (in terminal):\n",
    "            * ssh-keygen -t ed25519 -C \"mlibbeyv@gmail.com\"\n",
    "            * Pressing enter\n",
    "            * making passphrase\n",
    "                * Passphrase: pilates\n",
    "            * cat ~/.ssh/id_ed25519.pub\n",
    "            * Copying the whole output of this  ^ and going to github.com —> User —> Settings —> SSH and GPG keys (on the left) —> New SSH key —> “Authentication key” in dropdown —> Paste the Terminal output —> Add SSH key\n",
    "        * Said that this is vital to know for jobs\n",
    "    * Cloning the empty repostiory\n",
    "        * First want to do cd {path_to_folder_where_want_to_put_repo}\n",
    "        * git clone {SSH_link} (get this by going to the Repo and switching from HTTPS to SSH and copying and pasting here\n",
    "            * Enter passphrase\n",
    "* Creating a Python virtual environment\n",
    "    * In VS Code, open empty repository (File —> Open Folder —> thing)\n",
    "    * Then go to Terminal —> New Terminal\n",
    "        * And in the terminal at the bottom, do:\n",
    "            * python3 -m venv .venv\n",
    "                * Makes a file called .venv (creating a virtual environment)\n",
    "            * source /.venv/bin/activate\n",
    "                * Activates the virtual environment\n",
    "                * Know it works when you see in terminal “(.venv)” as the very first thing in the line\n",
    "    * Virtual environments helps with making sure that code made on one version of packages, code, etc. still works, no matter future stuff\n",
    "        * Basically makes sure the right versions of packages and stuff are included in your project\n",
    "        * Like if using package openai version 2.6.1 will always use openai2.6.1, even in 10 years from now when have openai5.1\n",
    "    * When run your first code, should be able to do (Select Another Kernel)? —> Python Environments —> “venv” when it asks you how to run it\n",
    "* Python\n",
    "    * Great for ML/AI because of \n",
    "        * Simple syntax\n",
    "        * All AI and ML stuff uses it\n",
    "        * Great for prototyping\n",
    "    * For .ipynb, for markdown, do Shift-Enter to get the md syntax to work\n",
    "* LLM’s\n",
    "    * Big ones\n",
    "        * OpenAI - GPT’s\n",
    "        * Anthropic - Claude\n",
    "        * Google - Gemini\n",
    "        * \n",
    "    * Local LLM’s\n",
    "        * Ollama\n",
    "            * Llama 3/4\n",
    "            * Mistral\n",
    "            * got-OSS\n",
    "* .env\n",
    "    * Way to store API keys\n",
    "    * Literally just do Create file —> “.env\"\n",
    "    * Make sure to save it when ever add API keys (seemed to fix some \"this thing doesn't exist\" errors)\n",
    "* Prompting chatbot in Python\n",
    "    * Create a dictionary with \"role\" and \"content\" keys with role having either \"user\" or \"system\" values and content is either the \"You are a ...\" for the bot or the user's prompt\n",
    "        * messages=[\n",
    "            {\"role\": \"system\", \"content\": \"You are a helpful assistant. Answer as correctly as possible.\"},\n",
    "            {\"role\": \"user\", \"content\": prompt}\n",
    "        ]"
   ]
  },
  {
   "cell_type": "markdown",
   "id": "35ee6533",
   "metadata": {},
   "source": []
  }
 ],
 "metadata": {
  "language_info": {
   "name": "python"
  }
 },
 "nbformat": 4,
 "nbformat_minor": 5
}
